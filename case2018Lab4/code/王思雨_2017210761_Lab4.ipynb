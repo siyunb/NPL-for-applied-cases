{
 "cells": [
  {
   "cell_type": "markdown",
   "metadata": {
    "collapsed": true
   },
   "source": [
    "# 载入作业所需函数库"
   ]
  },
  {
   "cell_type": "code",
   "execution_count": 46,
   "metadata": {
    "collapsed": true
   },
   "outputs": [],
   "source": [
    "#coding=utf-8  \n",
    "import jieba.analyse\n",
    "import os\n",
    "import re\n",
    "import xlwt"
   ]
  },
  {
   "cell_type": "markdown",
   "metadata": {},
   "source": [
    "+ 设置工作路径"
   ]
  },
  {
   "cell_type": "code",
   "execution_count": 2,
   "metadata": {
    "collapsed": true
   },
   "outputs": [],
   "source": [
    "path_doc_root = 'D:/bigdatahw/应用统计案例/case2018Lab4'     #定义工作路径"
   ]
  },
  {
   "cell_type": "markdown",
   "metadata": {},
   "source": [
    "+ 定义文件读取类"
   ]
  },
  {
   "cell_type": "code",
   "execution_count": 3,
   "metadata": {
    "collapsed": true
   },
   "outputs": [],
   "source": [
    "class loadFolders(object):          # 文件夹打开函数\n",
    "    def __init__(self, par_path):\n",
    "        self.par_path = par_path\n",
    "    def __iter__(self):\n",
    "        for file in os.listdir(self.par_path):\n",
    "            file_abspath = os.path.join(self.par_path, file)\n",
    "            if os.path.isdir(file_abspath):  \n",
    "                yield file_abspath"
   ]
  },
  {
   "cell_type": "code",
   "execution_count": 4,
   "metadata": {
    "collapsed": true
   },
   "outputs": [],
   "source": [
    "class loadFiles(object):            # txt文档打开函数\n",
    "    def __init__(self, par_path):\n",
    "        self.par_path = par_path\n",
    "    def __iter__(self):\n",
    "        folders = loadFolders(self.par_path)\n",
    "        for folder in folders:              \n",
    "            catg = folder.split(os.sep)[-1]\n",
    "            for file in os.listdir(folder):     \n",
    "                file_path = os.path.join(folder, file)\n",
    "                if os.path.isfile(file_path):\n",
    "                    this_file = open(file_path, 'rb')\n",
    "                    content = this_file.read().decode('gbk')\n",
    "                    yield catg, content\n",
    "                    this_file.close()   "
   ]
  },
  {
   "cell_type": "code",
   "execution_count": 11,
   "metadata": {
    "collapsed": true
   },
   "outputs": [],
   "source": [
    "files = loadFiles(path_doc_root)"
   ]
  },
  {
   "cell_type": "markdown",
   "metadata": {},
   "source": [
    "+ 读取三个时段的中美贸易文本"
   ]
  },
  {
   "cell_type": "code",
   "execution_count": 14,
   "metadata": {},
   "outputs": [],
   "source": [
    "a=[]\n",
    "b=[]\n",
    "c=[]\n",
    "for i,msg in enumerate(files):\n",
    "    catg = msg[0].split('-')[0]\n",
    "    file = msg[1]\n",
    "    if catg == \"1\":\n",
    "        a.append(file)\n",
    "    elif catg == \"2\":\n",
    "        b.append(file)\n",
    "    elif catg == \"3\":\n",
    "        c.append(file)"
   ]
  },
  {
   "cell_type": "markdown",
   "metadata": {},
   "source": [
    "# “中美贸易战”文本数据清理"
   ]
  },
  {
   "cell_type": "code",
   "execution_count": 17,
   "metadata": {},
   "outputs": [],
   "source": [
    "a = [line.replace('\\r','').replace('\\n','').replace('\\t','') for line in a]\n",
    "b = [line.replace('\\r','').replace('\\n','').replace('\\t','') for line in b]\n",
    "c = [line.replace('\\r','').replace('\\n','').replace('\\t','') for line in c]"
   ]
  },
  {
   "cell_type": "code",
   "execution_count": 31,
   "metadata": {},
   "outputs": [
    {
     "data": {
      "text/plain": [
       "['美国时间月日美总统特朗普签署备忘录基于美贸易代表办公室公布的对华调查报告指令有关部门对华采取限制措施',\n",
       " '美方无视中方加强知识产权保护的事实无视世贸组织规则无视广大业界的呼声一意孤行这是典型的单边主义和贸易保护主义中方坚决反对',\n",
       " '美方此举不利于中方利益不利于美方利益不利于全球利益开了一个非常恶劣的先例',\n",
       " '任何情况下中方都不会坐视自身合法权益受到损害我们已做好充分准备坚决捍卫自身合法利益',\n",
       " '关于调查中方已经多次明确表明立场',\n",
       " '中方不希望打贸易战但绝不害怕贸易战我们有信心有能力应对任何挑战',\n",
       " '希望美方悬崖勒马慎重决策不要把双边经贸关系拖入险境',\n",
       " '商务部新闻发言人就中方发布针对美国进口钢铁和铝产品措施的中止减让产品清单发表谈话年月日商务部发布了针对美国进口钢铁和铝产品措施的中止减让产品清单并征求公众意见拟对自美进口部分产品加征关税以平衡因美国对进口钢铁和铝产品加征关税给中方利益造成的损失',\n",
       " '商务部新闻发言人就此发表谈话',\n",
       " '该清单暂定包含类个税项产品按年统计涉及美对华约亿美元出口',\n",
       " '第一部分共计个税项涉及美对华亿美元出口包括鲜水果干果及坚果制品葡萄酒改性乙醇花旗参无缝钢管等产品拟加征%的关税',\n",
       " '第二部分共计个税项涉及美对华亿美元出口包括猪肉及制品回收铝等产品拟加征%的关税',\n",
       " '美方以国家安全为由对进口钢铁和铝产品分别征收%和%关税的行为实际上构成保障措施',\n",
       " '中方根据世贸组织《保障措施协定》有关规定制定了中止减让清单',\n",
       " '如果中美未能在规定时间内达成贸易补偿协议中方将对第一部分产品行使中止减让权利中方将在进一步评估美措施对中国的影响后实施第二部分清单',\n",
       " '中方保留根据实际情况对措施进行调整的权利并将按照世贸组织相关规则履行必要程序',\n",
       " '美国以国家安全为由限制产品进口的做法严重破坏以世贸组织为代表的多边贸易体系严重干扰正常的国际贸易秩序已遭到多个世贸组织成员的反对',\n",
       " '中方也通过多层次多渠道与美方进行了交涉将在世贸组织框架下采取法律行动与其他世贸组织成员共同维护多边贸易规则的稳定和权威',\n",
       " '中美作为世界前两大经济体合作是两国唯一正确的选择希望双方从中美大局出发相向而行聚焦合作管控分歧共同促进中美经贸关系健康稳定发展',\n",
       " '中方敦促美方尽快解决中方的关切通过对话协商解决双方的分歧避免对中美合作大局造成损害',\n",
       " '商务部表示美方措施违反了世贸组织相关规则不符合安全例外规定实际上构成保障措施严重侵犯中方利益',\n",
       " '中国拟中止对美国实施实质相等的减让和其他义务即对自美进口部分产品加征关税以平衡美方措施对我国造成的利益损失',\n",
       " '商务部要求相关方面在月日前向商务部贸易救济调查局提供有关书面材料',\n",
       " '清单中包含无缝钢管废铝以及猪肉及制品等',\n",
       " '中方敦促美方尽快解决中方关切避免对合作大局造成损害']"
      ]
     },
     "execution_count": 31,
     "metadata": {},
     "output_type": "execute_result"
    }
   ],
   "source": [
    "#按照句号，感叹号，问号等标点符号分隔，去掉\\n\\t\\s等空白符以及制表符,最终得到句子\n",
    "a = [sentence for line in a for sentence in re.split(r\"[。！?]\",line)]\n",
    "a = [item for item in a if item not in [\"\\n\",\"\"]] \n",
    "b = [sentence for line in b for sentence in re.split(r\"[。！?]\",line)]\n",
    "b = [item for item in b if item not in [\"\\n\",\"\"]] \n",
    "c = [sentence for line in c for sentence in re.split(r\"[。！?]\",line)]\n",
    "c = [item for item in c if item not in [\"\\n\",\"\"]] \n",
    "a"
   ]
  },
  {
   "cell_type": "code",
   "execution_count": 32,
   "metadata": {},
   "outputs": [
    {
     "data": {
      "text/plain": [
       "['美国时间月日美总统特朗普签署备忘录基于美贸易代表办公室公布的对华调查报告指令有关部门对华采取限制措施',\n",
       " '美方无视中方加强知识产权保护的事实无视世贸组织规则无视广大业界的呼声一意孤行这是典型的单边主义和贸易保护主义中方坚决反对',\n",
       " '美方此举不利于中方利益不利于美方利益不利于全球利益开了一个非常恶劣的先例',\n",
       " '任何情况下中方都不会坐视自身合法权益受到损害我们已做好充分准备坚决捍卫自身合法利益',\n",
       " '关于调查中方已经多次明确表明立场',\n",
       " '中方不希望打贸易战但绝不害怕贸易战我们有信心有能力应对任何挑战',\n",
       " '希望美方悬崖勒马慎重决策不要把双边经贸关系拖入险境',\n",
       " '商务部新闻发言人就中方发布针对美国进口钢铁和铝产品措施的中止减让产品清单发表谈话年月日商务部发布了针对美国进口钢铁和铝产品措施的中止减让产品清单并征求公众意见拟对自美进口部分产品加征关税以平衡因美国对进口钢铁和铝产品加征关税给中方利益造成的损失',\n",
       " '商务部新闻发言人就此发表谈话',\n",
       " '该清单暂定包含类个税项产品按年统计涉及美对华约亿美元出口',\n",
       " '第一部分共计个税项涉及美对华亿美元出口包括鲜水果干果及坚果制品葡萄酒改性乙醇花旗参无缝钢管等产品拟加征%的关税',\n",
       " '第二部分共计个税项涉及美对华亿美元出口包括猪肉及制品回收铝等产品拟加征%的关税',\n",
       " '美方以国家安全为由对进口钢铁和铝产品分别征收%和%关税的行为实际上构成保障措施',\n",
       " '中方根据世贸组织《保障措施协定》有关规定制定了中止减让清单',\n",
       " '如果中美未能在规定时间内达成贸易补偿协议中方将对第一部分产品行使中止减让权利中方将在进一步评估美措施对中国的影响后实施第二部分清单',\n",
       " '中方保留根据实际情况对措施进行调整的权利并将按照世贸组织相关规则履行必要程序',\n",
       " '美国以国家安全为由限制产品进口的做法严重破坏以世贸组织为代表的多边贸易体系严重干扰正常的国际贸易秩序已遭到多个世贸组织成员的反对',\n",
       " '中方也通过多层次多渠道与美方进行了交涉将在世贸组织框架下采取法律行动与其他世贸组织成员共同维护多边贸易规则的稳定和权威',\n",
       " '中美作为世界前两大经济体合作是两国唯一正确的选择希望双方从中美大局出发相向而行聚焦合作管控分歧共同促进中美经贸关系健康稳定发展',\n",
       " '中方敦促美方尽快解决中方的关切通过对话协商解决双方的分歧避免对中美合作大局造成损害',\n",
       " '商务部表示美方措施违反了世贸组织相关规则不符合安全例外规定实际上构成保障措施严重侵犯中方利益',\n",
       " '中国拟中止对美国实施实质相等的减让和其他义务即对自美进口部分产品加征关税以平衡美方措施对我国造成的利益损失',\n",
       " '商务部要求相关方面在月日前向商务部贸易救济调查局提供有关书面材料',\n",
       " '清单中包含无缝钢管废铝以及猪肉及制品等',\n",
       " '中方敦促美方尽快解决中方关切避免对合作大局造成损害']"
      ]
     },
     "execution_count": 32,
     "metadata": {},
     "output_type": "execute_result"
    }
   ],
   "source": [
    "#python正则表达式去除标点符号、数字\n",
    "#去除顿号、逗号、冒号、分号、以及空格等其他非断句标点符号\n",
    "#去除数字英文字母\n",
    "a = [re.sub(r\"[，、：；\\s+]\",\"\", line.encode(\"utf-8\").decode(\"utf-8\")) for line in a]   \n",
    "a = [re.sub(r\"[\\n\\da-z+（）“”.]\",\"\",line,flags=re.I) for line in a]\n",
    "b = [re.sub(r\"[，、：；\\s+]\",\"\", line.encode(\"utf-8\").decode(\"utf-8\")) for line in b]   \n",
    "b = [re.sub(r\"[\\n\\da-z+（）“”.]\",\"\",line,flags=re.I) for line in b] \n",
    "c = [re.sub(r\"[，、：；\\s+]\",\"\", line.encode(\"utf-8\").decode(\"utf-8\")) for line in c]   \n",
    "c = [re.sub(r\"[\\n\\da-z+（）“”.]\",\"\",line,flags=re.I) for line in c] \n",
    "a"
   ]
  },
  {
   "cell_type": "code",
   "execution_count": 41,
   "metadata": {},
   "outputs": [],
   "source": [
    "a=\",\".join(a)\n",
    "b=\",\".join(b)\n",
    "c=\",\".join(c)"
   ]
  },
  {
   "cell_type": "markdown",
   "metadata": {},
   "source": [
    "# 三个时段中美贸易战关键词"
   ]
  },
  {
   "cell_type": "markdown",
   "metadata": {},
   "source": [
    "+ 3月20日—3月25日关键词"
   ]
  },
  {
   "cell_type": "code",
   "execution_count": 47,
   "metadata": {},
   "outputs": [],
   "source": [
    "a_word=jieba.analyse.extract_tags(a, topK=15, withWeight=False, allowPOS=())"
   ]
  },
  {
   "cell_type": "markdown",
   "metadata": {},
   "source": [
    "+ 3月25日—3月31日关键词"
   ]
  },
  {
   "cell_type": "code",
   "execution_count": 48,
   "metadata": {},
   "outputs": [],
   "source": [
    "b_word=jieba.analyse.extract_tags(b, topK=15, withWeight=False, allowPOS=())"
   ]
  },
  {
   "cell_type": "markdown",
   "metadata": {},
   "source": [
    "+ 4月1日—4月5日关键词"
   ]
  },
  {
   "cell_type": "code",
   "execution_count": 60,
   "metadata": {},
   "outputs": [],
   "source": [
    "c_word=jieba.analyse.extract_tags(c, topK=15, withWeight=False, allowPOS=())\n",
    "keys={}\n",
    "keys['1'] = a_word\n",
    "keys['2'] = b_word\n",
    "keys['3'] = c_word"
   ]
  },
  {
   "cell_type": "markdown",
   "metadata": {},
   "source": [
    "# 写出不同时段的中美贸易战关键词"
   ]
  },
  {
   "cell_type": "code",
   "execution_count": 72,
   "metadata": {},
   "outputs": [],
   "source": [
    "workbook = xlwt.Workbook(encoding='utf-8')       #打开一个工作簿，编码为utf-8\n",
    "worksheet = workbook.add_sheet(u'china_daily')\n",
    "worksheet.write(0, 0, '3月20日—3月25日')\n",
    "worksheet.write(0, 1, '3月25日—3月31日')\n",
    "worksheet.write(0, 2, '4月1日—4月5日')\n",
    "for key, value in keys.items():\n",
    "    for i in list(range(15)):\n",
    "        worksheet.write(i+1, int(key)-1, value[i])\n",
    "workbook.save('D:/bigdatahw/应用统计案例/case2018Lab4/keys.xls')"
   ]
  }
 ],
 "metadata": {
  "kernelspec": {
   "display_name": "Python 3",
   "language": "python",
   "name": "python3"
  },
  "language_info": {
   "codemirror_mode": {
    "name": "ipython",
    "version": 3
   },
   "file_extension": ".py",
   "mimetype": "text/x-python",
   "name": "python",
   "nbconvert_exporter": "python",
   "pygments_lexer": "ipython3",
   "version": "3.6.1"
  }
 },
 "nbformat": 4,
 "nbformat_minor": 2
}
